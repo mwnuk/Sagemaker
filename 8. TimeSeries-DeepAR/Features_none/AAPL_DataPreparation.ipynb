{
 "cells": [
  {
   "cell_type": "code",
   "execution_count": 88,
   "metadata": {
    "collapsed": true
   },
   "outputs": [],
   "source": [
    "import numpy as np\n",
    "import pandas as pd\n",
    "import matplotlib.pyplot as plt\n",
    "import json\n",
    "import time\n",
    "import datetime\n",
    "%matplotlib inline \n",
    "# This code is derived from AWS SageMaker Samples:\n",
    "# https://github.com/awslabs/amazon-sagemaker-examples/tree/master/introduction_to_amazon_algorithms/deepar_electricity\n",
    "# https://github.com/awslabs/amazon-sagemaker-examples/tree/master/introduction_to_amazon_algorithms/deepar_synthetic"
   ]
  },
  {
   "cell_type": "markdown",
   "metadata": {},
   "source": [
    "<h2>DeepAR - Kaggle Bike Sharing Demand Dataset</h2>\n",
    "<h4>Prepare Bike Rental Data for DeepAR training</h4>  \n",
    "<quote>We will store the total rental count, registered rental count, and casual rental count data as a time series.</quote>\n",
    "<quote>For each of the targets <b>total, registered, casual</b>, following JSON is structured as: Start Time, Array of target values, optional dynamic features and categories</quote>\n",
    "<quote>Frequency of time series data (for example, hourly, daily, monthly and so forth) is specified using hyperparameter</quote>\n",
    "\n"
   ]
  },
  {
   "cell_type": "code",
   "execution_count": 89,
   "metadata": {
    "collapsed": true,
    "scrolled": true
   },
   "outputs": [],
   "source": [
    "target_values = ['Close/Last']\n",
    "\n",
    "with_categories = False\n",
    "\n",
    "# Set datetime column as index to work with data based on Date/Time\n",
    "df = pd.read_csv('AAPL_resampled.csv',parse_dates=[0], index_col=0)\n"
   ]
  },
  {
   "cell_type": "code",
   "execution_count": 90,
   "metadata": {},
   "outputs": [
    {
     "data": {
      "text/plain": [
       "Close/Last    float64\n",
       "Volume        float64\n",
       "Open          float64\n",
       "High          float64\n",
       "Low           float64\n",
       "dtype: object"
      ]
     },
     "execution_count": 90,
     "metadata": {},
     "output_type": "execute_result"
    }
   ],
   "source": [
    "df.dtypes"
   ]
  },
  {
   "cell_type": "markdown",
   "metadata": {},
   "source": [
    "## Minimum time and Maximum Time in Training CSV file\n",
    "df.index.min(),df.index.max()"
   ]
  },
  {
   "cell_type": "code",
   "execution_count": 91,
   "metadata": {},
   "outputs": [
    {
     "data": {
      "text/plain": [
       "(Timestamp('2019-12-23 00:00:00'), Timestamp('2020-12-22 00:00:00'))"
      ]
     },
     "execution_count": 91,
     "metadata": {},
     "output_type": "execute_result"
    }
   ],
   "source": [
    "df.index.min(),df.index.max()"
   ]
  },
  {
   "cell_type": "code",
   "execution_count": 92,
   "metadata": {},
   "outputs": [
    {
     "data": {
      "text/html": [
       "<div>\n",
       "<style scoped>\n",
       "    .dataframe tbody tr th:only-of-type {\n",
       "        vertical-align: middle;\n",
       "    }\n",
       "\n",
       "    .dataframe tbody tr th {\n",
       "        vertical-align: top;\n",
       "    }\n",
       "\n",
       "    .dataframe thead th {\n",
       "        text-align: right;\n",
       "    }\n",
       "</style>\n",
       "<table border=\"1\" class=\"dataframe\">\n",
       "  <thead>\n",
       "    <tr style=\"text-align: right;\">\n",
       "      <th></th>\n",
       "      <th>Close/Last</th>\n",
       "      <th>Volume</th>\n",
       "      <th>Open</th>\n",
       "      <th>High</th>\n",
       "      <th>Low</th>\n",
       "    </tr>\n",
       "    <tr>\n",
       "      <th>Date</th>\n",
       "      <th></th>\n",
       "      <th></th>\n",
       "      <th></th>\n",
       "      <th></th>\n",
       "      <th></th>\n",
       "    </tr>\n",
       "  </thead>\n",
       "  <tbody>\n",
       "    <tr>\n",
       "      <th>2020-11-01</th>\n",
       "      <td>106.992</td>\n",
       "      <td>1.580225e+08</td>\n",
       "      <td>109.501</td>\n",
       "      <td>109.952</td>\n",
       "      <td>106.132</td>\n",
       "    </tr>\n",
       "    <tr>\n",
       "      <th>2020-11-02</th>\n",
       "      <td>108.770</td>\n",
       "      <td>1.228669e+08</td>\n",
       "      <td>109.110</td>\n",
       "      <td>110.680</td>\n",
       "      <td>107.320</td>\n",
       "    </tr>\n",
       "    <tr>\n",
       "      <th>2020-11-03</th>\n",
       "      <td>110.440</td>\n",
       "      <td>1.076244e+08</td>\n",
       "      <td>109.660</td>\n",
       "      <td>111.490</td>\n",
       "      <td>108.730</td>\n",
       "    </tr>\n",
       "    <tr>\n",
       "      <th>2020-11-04</th>\n",
       "      <td>114.950</td>\n",
       "      <td>1.382355e+08</td>\n",
       "      <td>114.140</td>\n",
       "      <td>115.590</td>\n",
       "      <td>112.350</td>\n",
       "    </tr>\n",
       "    <tr>\n",
       "      <th>2020-11-05</th>\n",
       "      <td>119.030</td>\n",
       "      <td>1.263871e+08</td>\n",
       "      <td>117.950</td>\n",
       "      <td>119.620</td>\n",
       "      <td>116.869</td>\n",
       "    </tr>\n",
       "    <tr>\n",
       "      <th>2020-11-06</th>\n",
       "      <td>118.690</td>\n",
       "      <td>1.144579e+08</td>\n",
       "      <td>118.320</td>\n",
       "      <td>119.200</td>\n",
       "      <td>116.130</td>\n",
       "    </tr>\n",
       "    <tr>\n",
       "      <th>2020-11-07</th>\n",
       "      <td>117.845</td>\n",
       "      <td>1.230159e+08</td>\n",
       "      <td>119.758</td>\n",
       "      <td>120.338</td>\n",
       "      <td>115.888</td>\n",
       "    </tr>\n",
       "    <tr>\n",
       "      <th>2020-11-08</th>\n",
       "      <td>117.195</td>\n",
       "      <td>1.480394e+08</td>\n",
       "      <td>122.225</td>\n",
       "      <td>123.206</td>\n",
       "      <td>116.821</td>\n",
       "    </tr>\n",
       "    <tr>\n",
       "      <th>2020-11-09</th>\n",
       "      <td>116.320</td>\n",
       "      <td>1.545153e+08</td>\n",
       "      <td>120.500</td>\n",
       "      <td>121.990</td>\n",
       "      <td>116.050</td>\n",
       "    </tr>\n",
       "    <tr>\n",
       "      <th>2020-11-10</th>\n",
       "      <td>115.970</td>\n",
       "      <td>1.380234e+08</td>\n",
       "      <td>115.550</td>\n",
       "      <td>117.590</td>\n",
       "      <td>114.130</td>\n",
       "    </tr>\n",
       "    <tr>\n",
       "      <th>2020-11-11</th>\n",
       "      <td>119.490</td>\n",
       "      <td>1.122950e+08</td>\n",
       "      <td>117.190</td>\n",
       "      <td>119.630</td>\n",
       "      <td>116.440</td>\n",
       "    </tr>\n",
       "    <tr>\n",
       "      <th>2020-11-12</th>\n",
       "      <td>119.210</td>\n",
       "      <td>1.033507e+08</td>\n",
       "      <td>119.620</td>\n",
       "      <td>120.530</td>\n",
       "      <td>118.570</td>\n",
       "    </tr>\n",
       "    <tr>\n",
       "      <th>2020-11-13</th>\n",
       "      <td>119.260</td>\n",
       "      <td>8.168859e+07</td>\n",
       "      <td>119.440</td>\n",
       "      <td>119.672</td>\n",
       "      <td>117.870</td>\n",
       "    </tr>\n",
       "    <tr>\n",
       "      <th>2020-11-14</th>\n",
       "      <td>119.739</td>\n",
       "      <td>7.797762e+07</td>\n",
       "      <td>118.931</td>\n",
       "      <td>119.628</td>\n",
       "      <td>117.325</td>\n",
       "    </tr>\n",
       "    <tr>\n",
       "      <th>2020-11-15</th>\n",
       "      <td>120.362</td>\n",
       "      <td>9.269278e+07</td>\n",
       "      <td>118.618</td>\n",
       "      <td>120.565</td>\n",
       "      <td>117.471</td>\n",
       "    </tr>\n",
       "    <tr>\n",
       "      <th>2020-11-16</th>\n",
       "      <td>120.300</td>\n",
       "      <td>9.118302e+07</td>\n",
       "      <td>118.920</td>\n",
       "      <td>120.990</td>\n",
       "      <td>118.146</td>\n",
       "    </tr>\n",
       "    <tr>\n",
       "      <th>2020-11-17</th>\n",
       "      <td>119.390</td>\n",
       "      <td>7.427097e+07</td>\n",
       "      <td>119.550</td>\n",
       "      <td>120.674</td>\n",
       "      <td>118.960</td>\n",
       "    </tr>\n",
       "    <tr>\n",
       "      <th>2020-11-18</th>\n",
       "      <td>118.030</td>\n",
       "      <td>7.632211e+07</td>\n",
       "      <td>118.610</td>\n",
       "      <td>119.820</td>\n",
       "      <td>118.000</td>\n",
       "    </tr>\n",
       "    <tr>\n",
       "      <th>2020-11-19</th>\n",
       "      <td>118.640</td>\n",
       "      <td>7.411297e+07</td>\n",
       "      <td>117.590</td>\n",
       "      <td>119.060</td>\n",
       "      <td>116.810</td>\n",
       "    </tr>\n",
       "    <tr>\n",
       "      <th>2020-11-20</th>\n",
       "      <td>117.340</td>\n",
       "      <td>7.360429e+07</td>\n",
       "      <td>118.640</td>\n",
       "      <td>118.770</td>\n",
       "      <td>117.290</td>\n",
       "    </tr>\n",
       "    <tr>\n",
       "      <th>2020-11-21</th>\n",
       "      <td>115.577</td>\n",
       "      <td>8.917206e+07</td>\n",
       "      <td>119.445</td>\n",
       "      <td>118.741</td>\n",
       "      <td>116.957</td>\n",
       "    </tr>\n",
       "    <tr>\n",
       "      <th>2020-11-22</th>\n",
       "      <td>113.954</td>\n",
       "      <td>1.177376e+08</td>\n",
       "      <td>119.354</td>\n",
       "      <td>118.739</td>\n",
       "      <td>115.484</td>\n",
       "    </tr>\n",
       "    <tr>\n",
       "      <th>2020-11-23</th>\n",
       "      <td>113.850</td>\n",
       "      <td>1.279593e+08</td>\n",
       "      <td>117.180</td>\n",
       "      <td>117.620</td>\n",
       "      <td>113.750</td>\n",
       "    </tr>\n",
       "    <tr>\n",
       "      <th>2020-11-24</th>\n",
       "      <td>115.170</td>\n",
       "      <td>1.138742e+08</td>\n",
       "      <td>113.910</td>\n",
       "      <td>115.850</td>\n",
       "      <td>112.590</td>\n",
       "    </tr>\n",
       "    <tr>\n",
       "      <th>2020-11-25</th>\n",
       "      <td>116.030</td>\n",
       "      <td>7.649923e+07</td>\n",
       "      <td>115.550</td>\n",
       "      <td>116.750</td>\n",
       "      <td>115.170</td>\n",
       "    </tr>\n",
       "    <tr>\n",
       "      <th>2020-11-26</th>\n",
       "      <td>116.440</td>\n",
       "      <td>4.780838e+07</td>\n",
       "      <td>116.630</td>\n",
       "      <td>117.284</td>\n",
       "      <td>116.368</td>\n",
       "    </tr>\n",
       "    <tr>\n",
       "      <th>2020-11-27</th>\n",
       "      <td>116.590</td>\n",
       "      <td>4.669133e+07</td>\n",
       "      <td>116.570</td>\n",
       "      <td>117.490</td>\n",
       "      <td>116.220</td>\n",
       "    </tr>\n",
       "    <tr>\n",
       "      <th>2020-11-28</th>\n",
       "      <td>116.613</td>\n",
       "      <td>8.658557e+07</td>\n",
       "      <td>115.898</td>\n",
       "      <td>118.020</td>\n",
       "      <td>115.729</td>\n",
       "    </tr>\n",
       "    <tr>\n",
       "      <th>2020-11-29</th>\n",
       "      <td>116.818</td>\n",
       "      <td>1.541580e+08</td>\n",
       "      <td>115.087</td>\n",
       "      <td>118.976</td>\n",
       "      <td>115.240</td>\n",
       "    </tr>\n",
       "    <tr>\n",
       "      <th>2020-11-30</th>\n",
       "      <td>119.050</td>\n",
       "      <td>1.694102e+08</td>\n",
       "      <td>116.970</td>\n",
       "      <td>120.970</td>\n",
       "      <td>116.810</td>\n",
       "    </tr>\n",
       "  </tbody>\n",
       "</table>\n",
       "</div>"
      ],
      "text/plain": [
       "            Close/Last        Volume     Open     High      Low\n",
       "Date                                                           \n",
       "2020-11-01     106.992  1.580225e+08  109.501  109.952  106.132\n",
       "2020-11-02     108.770  1.228669e+08  109.110  110.680  107.320\n",
       "2020-11-03     110.440  1.076244e+08  109.660  111.490  108.730\n",
       "2020-11-04     114.950  1.382355e+08  114.140  115.590  112.350\n",
       "2020-11-05     119.030  1.263871e+08  117.950  119.620  116.869\n",
       "2020-11-06     118.690  1.144579e+08  118.320  119.200  116.130\n",
       "2020-11-07     117.845  1.230159e+08  119.758  120.338  115.888\n",
       "2020-11-08     117.195  1.480394e+08  122.225  123.206  116.821\n",
       "2020-11-09     116.320  1.545153e+08  120.500  121.990  116.050\n",
       "2020-11-10     115.970  1.380234e+08  115.550  117.590  114.130\n",
       "2020-11-11     119.490  1.122950e+08  117.190  119.630  116.440\n",
       "2020-11-12     119.210  1.033507e+08  119.620  120.530  118.570\n",
       "2020-11-13     119.260  8.168859e+07  119.440  119.672  117.870\n",
       "2020-11-14     119.739  7.797762e+07  118.931  119.628  117.325\n",
       "2020-11-15     120.362  9.269278e+07  118.618  120.565  117.471\n",
       "2020-11-16     120.300  9.118302e+07  118.920  120.990  118.146\n",
       "2020-11-17     119.390  7.427097e+07  119.550  120.674  118.960\n",
       "2020-11-18     118.030  7.632211e+07  118.610  119.820  118.000\n",
       "2020-11-19     118.640  7.411297e+07  117.590  119.060  116.810\n",
       "2020-11-20     117.340  7.360429e+07  118.640  118.770  117.290\n",
       "2020-11-21     115.577  8.917206e+07  119.445  118.741  116.957\n",
       "2020-11-22     113.954  1.177376e+08  119.354  118.739  115.484\n",
       "2020-11-23     113.850  1.279593e+08  117.180  117.620  113.750\n",
       "2020-11-24     115.170  1.138742e+08  113.910  115.850  112.590\n",
       "2020-11-25     116.030  7.649923e+07  115.550  116.750  115.170\n",
       "2020-11-26     116.440  4.780838e+07  116.630  117.284  116.368\n",
       "2020-11-27     116.590  4.669133e+07  116.570  117.490  116.220\n",
       "2020-11-28     116.613  8.658557e+07  115.898  118.020  115.729\n",
       "2020-11-29     116.818  1.541580e+08  115.087  118.976  115.240\n",
       "2020-11-30     119.050  1.694102e+08  116.970  120.970  116.810"
      ]
     },
     "execution_count": 92,
     "metadata": {},
     "output_type": "execute_result"
    }
   ],
   "source": [
    "df['2020-11']"
   ]
  },
  {
   "cell_type": "code",
   "execution_count": 93,
   "metadata": {},
   "outputs": [
    {
     "data": {
      "text/plain": [
       "(Timestamp('2019-12-23 00:00:00'), Timestamp('2020-12-22 00:00:00'))"
      ]
     },
     "execution_count": 93,
     "metadata": {},
     "output_type": "execute_result"
    }
   ],
   "source": [
    "# https://docs.aws.amazon.com/sagemaker/latest/dg/deepar_hyperparameters.html\n",
    "    \n",
    "freq='D' # Timeseries consists Daily Data \n",
    "\n",
    "# how far in the future predictions can be made\n",
    "# 5 days worth of daily forecast \n",
    "prediction_length = 5 \n",
    "\n",
    "# aws recommends setting context same as prediction length as a starting point. \n",
    "# This controls how far in the past the network can see\n",
    "context_length = 15\n",
    "mn=df.index.min()\n",
    "mx=df.index.max()\n",
    "mn,mx"
   ]
  },
  {
   "cell_type": "code",
   "execution_count": 94,
   "metadata": {},
   "outputs": [
    {
     "ename": "SyntaxError",
     "evalue": "invalid syntax (<ipython-input-94-1ad911f455fe>, line 15)",
     "output_type": "error",
     "traceback": [
      "\u001b[0;36m  File \u001b[0;32m\"<ipython-input-94-1ad911f455fe>\"\u001b[0;36m, line \u001b[0;32m15\u001b[0m\n\u001b[0;31m    dt_test_range = (dt_dataset_start_time,\u001b[0m\n\u001b[0m                ^\u001b[0m\n\u001b[0;31mSyntaxError\u001b[0m\u001b[0;31m:\u001b[0m invalid syntax\n"
     ]
    }
   ],
   "source": [
    "dt_predict_max = pd.Timestamp(mx, freq=freq) # 2012-12-31 23:00 alt way..pd.datetime(2012,12,31,23,0,0)\n",
    "\n",
    "dt_dataset_start_time = pd.Timestamp(mn, freq=freq)\n",
    "dt_dataset_end_time = pd.Timestamp(mx, freq=freq)\n",
    "\n",
    "# use for model training\n",
    "# Start time is the first row \n",
    "# Training TS end time ensures some data is withheld for model testing\n",
    "# 12 days worth of training data is withheld for testing\n",
    "dt_train_range = (dt_dataset_start_time,\n",
    "                  dt_dataset_end_time - datetime.timedelta(days=5 )\n",
    "\n",
    "# Use entire data for testing\n",
    "# We can compare predicted values vs actual (i.e. last 12 days is withheld for testing and model hasn't seen that data)\n",
    "dt_test_range = (dt_dataset_start_time, \n",
    "                 dt_dataset_end_time) \n",
    "dt_train_range,dt_test_range "
   ]
  },
  {
   "cell_type": "code",
   "execution_count": 95,
   "metadata": {},
   "outputs": [
    {
     "data": {
      "text/plain": [
       "(Timestamp('2020-12-22 00:00:00', freq='D'),\n",
       " Timestamp('2020-12-23 00:00:00', freq='D'))"
      ]
     },
     "execution_count": 95,
     "metadata": {},
     "output_type": "execute_result"
    }
   ],
   "source": [
    "dt_predict_max,dt_predict_max + datetime.timedelta(days=1)"
   ]
  },
  {
   "cell_type": "code",
   "execution_count": 96,
   "metadata": {
    "collapsed": true
   },
   "outputs": [],
   "source": [
    "# Skip this because missing values are fixed in another code file\n",
    "# Let's see if there are gaps in timesteps\n",
    "def is_missing_steps(df,start,end,freq='D'):\n",
    "    dt_range = pd.date_range(start=start,end=end,freq=freq)\n",
    "    return not dt_range.equals(df[start:end].index)\n",
    "\n",
    "def get_missing_steps(df,start,end,freq='D'):\n",
    "    dt_range = pd.date_range(start=start,end=end,freq=freq)\n",
    "    return dt_range.difference(df[start:end].index)    \n",
    "\n",
    "# List timeseries with only NaNs\n",
    "# They can be removed\n",
    "def timeseries_with_only_nans(df):\n",
    "    l = []\n",
    "    for col in df.columns:\n",
    "        if pd.isna(df[col].min()):\n",
    "            #print (col)\n",
    "            l.append(col)\n",
    "    return l"
   ]
  },
  {
   "cell_type": "code",
   "execution_count": 97,
   "metadata": {},
   "outputs": [
    {
     "data": {
      "text/plain": [
       "False"
      ]
     },
     "execution_count": 97,
     "metadata": {},
     "output_type": "execute_result"
    }
   ],
   "source": [
    "is_missing_steps(df, '2020-01-01', '2020-01-19','D')"
   ]
  },
  {
   "cell_type": "code",
   "execution_count": 98,
   "metadata": {},
   "outputs": [
    {
     "data": {
      "text/plain": [
       "DatetimeIndex([], dtype='datetime64[ns]', freq=None)"
      ]
     },
     "execution_count": 98,
     "metadata": {},
     "output_type": "execute_result"
    }
   ],
   "source": [
    "get_missing_steps(df, '2020-01-01', '2020-01-19','D')"
   ]
  },
  {
   "cell_type": "code",
   "execution_count": 99,
   "metadata": {},
   "outputs": [
    {
     "data": {
      "text/html": [
       "<div>\n",
       "<style scoped>\n",
       "    .dataframe tbody tr th:only-of-type {\n",
       "        vertical-align: middle;\n",
       "    }\n",
       "\n",
       "    .dataframe tbody tr th {\n",
       "        vertical-align: top;\n",
       "    }\n",
       "\n",
       "    .dataframe thead th {\n",
       "        text-align: right;\n",
       "    }\n",
       "</style>\n",
       "<table border=\"1\" class=\"dataframe\">\n",
       "  <thead>\n",
       "    <tr style=\"text-align: right;\">\n",
       "      <th></th>\n",
       "      <th>Close/Last</th>\n",
       "      <th>Volume</th>\n",
       "      <th>Open</th>\n",
       "      <th>High</th>\n",
       "      <th>Low</th>\n",
       "    </tr>\n",
       "    <tr>\n",
       "      <th>Date</th>\n",
       "      <th></th>\n",
       "      <th></th>\n",
       "      <th></th>\n",
       "      <th></th>\n",
       "      <th></th>\n",
       "    </tr>\n",
       "  </thead>\n",
       "  <tbody>\n",
       "    <tr>\n",
       "      <th>2020-12-18</th>\n",
       "      <td>126.655</td>\n",
       "      <td>1.925415e+08</td>\n",
       "      <td>128.960</td>\n",
       "      <td>129.100</td>\n",
       "      <td>126.120</td>\n",
       "    </tr>\n",
       "    <tr>\n",
       "      <th>2020-12-19</th>\n",
       "      <td>125.525</td>\n",
       "      <td>2.116398e+08</td>\n",
       "      <td>126.985</td>\n",
       "      <td>127.724</td>\n",
       "      <td>123.610</td>\n",
       "    </tr>\n",
       "    <tr>\n",
       "      <th>2020-12-20</th>\n",
       "      <td>126.103</td>\n",
       "      <td>1.428517e+08</td>\n",
       "      <td>123.792</td>\n",
       "      <td>126.280</td>\n",
       "      <td>121.619</td>\n",
       "    </tr>\n",
       "    <tr>\n",
       "      <th>2020-12-21</th>\n",
       "      <td>128.230</td>\n",
       "      <td>1.212516e+08</td>\n",
       "      <td>125.020</td>\n",
       "      <td>128.310</td>\n",
       "      <td>123.449</td>\n",
       "    </tr>\n",
       "    <tr>\n",
       "      <th>2020-12-22</th>\n",
       "      <td>131.880</td>\n",
       "      <td>1.693518e+08</td>\n",
       "      <td>131.610</td>\n",
       "      <td>134.405</td>\n",
       "      <td>129.650</td>\n",
       "    </tr>\n",
       "  </tbody>\n",
       "</table>\n",
       "</div>"
      ],
      "text/plain": [
       "            Close/Last        Volume     Open     High      Low\n",
       "Date                                                           \n",
       "2020-12-18     126.655  1.925415e+08  128.960  129.100  126.120\n",
       "2020-12-19     125.525  2.116398e+08  126.985  127.724  123.610\n",
       "2020-12-20     126.103  1.428517e+08  123.792  126.280  121.619\n",
       "2020-12-21     128.230  1.212516e+08  125.020  128.310  123.449\n",
       "2020-12-22     131.880  1.693518e+08  131.610  134.405  129.650"
      ]
     },
     "execution_count": 99,
     "metadata": {},
     "output_type": "execute_result"
    }
   ],
   "source": [
    "df.tail()"
   ]
  },
  {
   "cell_type": "code",
   "execution_count": 100,
   "metadata": {},
   "outputs": [
    {
     "data": {
      "text/plain": [
       "<matplotlib.axes._subplots.AxesSubplot at 0x7f0ee82bc4e0>"
      ]
     },
     "execution_count": 100,
     "metadata": {},
     "output_type": "execute_result"
    },
    {
     "data": {
      "image/png": "[encoded data removed]",
      "text/plain": [
       "<Figure size 432x288 with 1 Axes>"
      ]
     },
     "metadata": {
      "needs_background": "light"
     },
     "output_type": "display_data"
    }
   ],
   "source": [
    "df['2020-01-01': '2020-01-19']['Open'].plot()"
   ]
  },
  {
   "cell_type": "code",
   "execution_count": 101,
   "metadata": {},
   "outputs": [
    {
     "data": {
      "text/plain": [
       "['Close/Last']"
      ]
     },
     "execution_count": 101,
     "metadata": {},
     "output_type": "execute_result"
    }
   ],
   "source": [
    "target_values"
   ]
  },
  {
   "cell_type": "code",
   "execution_count": 102,
   "metadata": {},
   "outputs": [
    {
     "data": {
      "text/plain": [
       "(Timestamp('2019-12-23 00:00:00', freq='D'),\n",
       " Timestamp('2020-12-22 00:00:00', freq='D'))"
      ]
     },
     "execution_count": 102,
     "metadata": {},
     "output_type": "execute_result"
    }
   ],
   "source": [
    "dt_test_range"
   ]
  },
  {
   "cell_type": "code",
   "execution_count": 103,
   "metadata": {},
   "outputs": [
    {
     "data": {
      "text/plain": [
       "(Timestamp('2019-12-23 00:00:00', freq='D'),\n",
       " Timestamp('2020-12-07 00:00:00', freq='D'))"
      ]
     },
     "execution_count": 103,
     "metadata": {},
     "output_type": "execute_result"
    }
   ],
   "source": [
    "dt_train_range"
   ]
  },
  {
   "cell_type": "code",
   "execution_count": 104,
   "metadata": {
    "collapsed": true
   },
   "outputs": [],
   "source": [
    "time_series_test = []\n",
    "time_series_training = []\n",
    "\n",
    "for target in target_values:\n",
    "    #time_series_training.append(df[:-prediction_length])\n",
    "    #time_series_test.append(df)\n",
    "    time_series_test.append(df[dt_test_range[0]:dt_test_range[1]][target])\n",
    "    time_series_training.append(df[dt_train_range[0]:dt_train_range[1]][target])"
   ]
  },
  {
   "cell_type": "code",
   "execution_count": 105,
   "metadata": {},
   "outputs": [
    {
     "data": {
      "text/plain": [
       "Date\n",
       "2020-12-18    126.655\n",
       "2020-12-19    125.525\n",
       "2020-12-20    126.103\n",
       "2020-12-21    128.230\n",
       "2020-12-22    131.880\n",
       "Name: Close/Last, dtype: float64"
      ]
     },
     "execution_count": 105,
     "metadata": {},
     "output_type": "execute_result"
    }
   ],
   "source": [
    "time_series_test[0].tail()"
   ]
  },
  {
   "cell_type": "code",
   "execution_count": 106,
   "metadata": {},
   "outputs": [
    {
     "data": {
      "text/plain": [
       "Date\n",
       "2020-12-03    122.940\n",
       "2020-12-04    122.250\n",
       "2020-12-05    122.129\n",
       "2020-12-06    122.737\n",
       "2020-12-07    123.750\n",
       "Name: Close/Last, dtype: float64"
      ]
     },
     "execution_count": 106,
     "metadata": {},
     "output_type": "execute_result"
    }
   ],
   "source": [
    "time_series_training[0].tail()"
   ]
  },
  {
   "cell_type": "code",
   "execution_count": 107,
   "metadata": {},
   "outputs": [
    {
     "data": {
      "image/png": "[encoded data removed]",
      "text/plain": [
       "<Figure size 432x288 with 1 Axes>"
      ]
     },
     "metadata": {
      "needs_background": "light"
     },
     "output_type": "display_data"
    }
   ],
   "source": [
    "time_series_test[0].plot(label='test')\n",
    "time_series_training[0].plot(label='train')#, ls=':')\n",
    "plt.legend()\n",
    "plt.show()"
   ]
  },
  {
   "cell_type": "code",
   "execution_count": 108,
   "metadata": {
    "collapsed": true
   },
   "outputs": [],
   "source": [
    "def encode_target(ts):\n",
    "    return [x if np.isfinite(x) else \"NaN\" for x in ts]  \n",
    "\n",
    "def encode_dynamic_feat(dynamic_feat):  \n",
    "    l = []\n",
    "    for col in dynamic_feat:\n",
    "        assert (not dynamic_feat[col].isna().any()), col  + ' has NaN'             \n",
    "        l.append(dynamic_feat[col].tolist())\n",
    "    return l\n",
    "\n",
    "def series_to_obj(ts, cat=None, dynamic_feat=None):\n",
    "    obj = {\"start\": str(ts.index[0]), \"target\": encode_target(ts)}\n",
    "    if cat is not None:\n",
    "        obj[\"cat\"] = cat\n",
    "    if dynamic_feat is not None:\n",
    "        obj[\"dynamic_feat\"] = encode_dynamic_feat(dynamic_feat)\n",
    "    return obj\n",
    "\n",
    "def series_to_jsonline(ts, cat=None, dynamic_feat=None):\n",
    "    return json.dumps(series_to_obj(ts, cat, dynamic_feat))   "
   ]
  },
  {
   "cell_type": "code",
   "execution_count": 109,
   "metadata": {},
   "outputs": [
    {
     "data": {
      "text/plain": [
       "[71.0, 71.068, 71.808, 72.47800000000001, 72.45]"
      ]
     },
     "execution_count": 109,
     "metadata": {},
     "output_type": "execute_result"
    }
   ],
   "source": [
    "list(time_series_training[0][:5])"
   ]
  },
  {
   "cell_type": "code",
   "execution_count": 110,
   "metadata": {},
   "outputs": [
    {
     "data": {
      "text/plain": [
       "{'start': '2019-12-23 00:00:00',\n",
       " 'target': [71.0, 71.068, 71.808, 72.47800000000001, 72.45]}"
      ]
     },
     "execution_count": 110,
     "metadata": {},
     "output_type": "execute_result"
    }
   ],
   "source": [
    "series_to_obj(time_series_training[0][:5],[0] if with_categories else None)"
   ]
  },
  {
   "cell_type": "code",
   "execution_count": 111,
   "metadata": {},
   "outputs": [
    {
     "data": {
      "text/plain": [
       "'{\"start\": \"2019-12-23 00:00:00\", \"target\": [71.0, 71.068, 71.808, 72.47800000000001, 72.45]}'"
      ]
     },
     "execution_count": 111,
     "metadata": {},
     "output_type": "execute_result"
    }
   ],
   "source": [
    "series_to_jsonline(time_series_training[0][:5],[0] if with_categories else None)"
   ]
  },
  {
   "cell_type": "code",
   "execution_count": 112,
   "metadata": {
    "collapsed": true
   },
   "outputs": [],
   "source": [
    "encoding = \"utf-8\"\n",
    "cat_idx = 0\n",
    "\n",
    "train_file_name = \"AAPLtrain.json\"\n",
    "test_file_name = \"AAPLtest.json\"\n",
    "\n",
    "if with_categories:\n",
    "    train_file_name = \"AAPLtrain_with_categories.json\"\n",
    "    test_file_name = \"AAPLtest_with_categories.json\"\n",
    "\n",
    "with open(train_file_name, 'wb') as fp:\n",
    "    for ts in time_series_training:\n",
    "        fp.write(series_to_jsonline(ts,[cat_idx] if with_categories else None).encode(encoding))\n",
    "        fp.write('\\n'.encode(encoding))\n",
    "        cat_idx += 1"
   ]
  },
  {
   "cell_type": "code",
   "execution_count": 113,
   "metadata": {
    "collapsed": true
   },
   "outputs": [],
   "source": [
    "cat_idx = 0\n",
    "with open(test_file_name, 'wb') as fp:\n",
    "    for ts in time_series_test:\n",
    "        fp.write(series_to_jsonline(ts,[cat_idx] if with_categories else None).encode(encoding))\n",
    "        fp.write('\\n'.encode(encoding))\n",
    "        cat_idx += 1"
   ]
  },
  {
   "cell_type": "code",
   "execution_count": 114,
   "metadata": {
    "collapsed": true
   },
   "outputs": [],
   "source": [
    "df.to_csv('all_data.csv',index=True,index_label='datetime')"
   ]
  },
  {
   "cell_type": "code",
   "execution_count": 115,
   "metadata": {},
   "outputs": [
    {
     "name": "stdout",
     "output_type": "stream",
     "text": [
      "366 Close/Last\n"
     ]
    }
   ],
   "source": [
    "for ts in time_series_test:\n",
    "    print (len(ts),ts.name)\n"
   ]
  },
  {
   "cell_type": "code",
   "execution_count": 116,
   "metadata": {},
   "outputs": [
    {
     "name": "stdout",
     "output_type": "stream",
     "text": [
      "351 Close/Last\n"
     ]
    }
   ],
   "source": [
    "for ts in time_series_training:\n",
    "    print (len(ts),ts.name)"
   ]
  },
  {
   "cell_type": "code",
   "execution_count": null,
   "metadata": {
    "collapsed": true
   },
   "outputs": [],
   "source": []
  },
  {
   "cell_type": "code",
   "execution_count": null,
   "metadata": {
    "collapsed": true
   },
   "outputs": [],
   "source": []
  }
 ],
 "metadata": {
  "kernelspec": {
   "display_name": "conda_tensorflow_p36",
   "language": "python",
   "name": "conda_tensorflow_p36"
  },
  "language_info": {
   "codemirror_mode": {
    "name": "ipython",
    "version": 3
   },
   "file_extension": ".py",
   "mimetype": "text/x-python",
   "name": "python",
   "nbconvert_exporter": "python",
   "pygments_lexer": "ipython3",
   "version": "3.6.10"
  }
 },
 "nbformat": 4,
 "nbformat_minor": 1
}
