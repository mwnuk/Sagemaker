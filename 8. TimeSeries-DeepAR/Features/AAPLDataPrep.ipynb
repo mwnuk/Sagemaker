{
 "cells": [
  {
   "cell_type": "code",
   "execution_count": 3,
   "metadata": {},
   "outputs": [],
   "source": [
    "import numpy as np\n",
    "import pandas as pd\n",
    "import matplotlib.pyplot as plt\n",
    "import json\n",
    "import time\n",
    "import datetime\n",
    "%matplotlib inline "
   ]
  },
  {
   "cell_type": "markdown",
   "metadata": {},
   "source": [
    "<h2>DeepAR - Kaggle Bike Sharing Demand Dataset with Dynamic Features</h2>\n",
    "<h4>Prepare Bike Rental Data for DeepAR training</h4>  \n",
    "<quote>We will store the total rental count, registered rental count, and casual rental count data as a time series.</quote>\n",
    "<quote>For each of the targets <b>total, registered, casual</b>, following JSON is structured as: Start Time, Array of target values, optional dynamic features and categories</quote>\n",
    "<quote>Frequency of time series data (for example, hourly, daily, monthly and so forth) is specified using hyperparameter</quote>\n",
    "\n",
    "<h4>To download original dataset, sign-in and download from this link: https://www.kaggle.com/c/bike-sharing-demand/data</h4>\n",
    "<br>\n",
    "<b>Dynamic features used</b>: ['Close/Last', 'Volume', 'Open', ' High', 'Low']<br>\n",
    "       \n",
    "Start Time From: ['datetime'] <br>\n",
    "Target Feature: [<b>'count','registered','casual'</b>]<br>\n",
    "Frequency: daily"
   ]
  },
  {
   "cell_type": "code",
   "execution_count": 4,
   "metadata": {},
   "outputs": [],
   "source": [
    "dynamic_features = ['Volume', 'Open', 'High', 'Low']\n",
    "target_values = ['Close/Last']"
   ]
  },
  {
   "cell_type": "code",
   "execution_count": 5,
   "metadata": {},
   "outputs": [],
   "source": [
    "# Copy over from biketrain_data_preparation\n",
    "\n",
    "freq='D' # Timeseries consists Daily Data and we need to predict \n",
    "\n",
    "# how far in the future predictions can be made\n",
    "prediction_length = 5 \n",
    "\n",
    "# aws recommends setting context same as prediction length as a starting point. \n",
    "# This controls how far in the past the network can see\n",
    "context_length = 5"
   ]
  },
  {
   "cell_type": "code",
   "execution_count": 6,
   "metadata": {},
   "outputs": [
    {
     "data": {
      "text/html": [
       "<div>\n",
       "<style scoped>\n",
       "    .dataframe tbody tr th:only-of-type {\n",
       "        vertical-align: middle;\n",
       "    }\n",
       "\n",
       "    .dataframe tbody tr th {\n",
       "        vertical-align: top;\n",
       "    }\n",
       "\n",
       "    .dataframe thead th {\n",
       "        text-align: right;\n",
       "    }\n",
       "</style>\n",
       "<table border=\"1\" class=\"dataframe\">\n",
       "  <thead>\n",
       "    <tr style=\"text-align: right;\">\n",
       "      <th></th>\n",
       "      <th>Close/Last</th>\n",
       "      <th>Volume</th>\n",
       "      <th>Open</th>\n",
       "      <th>High</th>\n",
       "      <th>Low</th>\n",
       "    </tr>\n",
       "    <tr>\n",
       "      <th>Date</th>\n",
       "      <th></th>\n",
       "      <th></th>\n",
       "      <th></th>\n",
       "      <th></th>\n",
       "      <th></th>\n",
       "    </tr>\n",
       "  </thead>\n",
       "  <tbody>\n",
       "    <tr>\n",
       "      <th>2020-12-22</th>\n",
       "      <td>$131.88</td>\n",
       "      <td>169351800</td>\n",
       "      <td>$131.61</td>\n",
       "      <td>$134.405</td>\n",
       "      <td>$129.65</td>\n",
       "    </tr>\n",
       "    <tr>\n",
       "      <th>2020-12-21</th>\n",
       "      <td>$128.23</td>\n",
       "      <td>121251600</td>\n",
       "      <td>$125.02</td>\n",
       "      <td>$128.31</td>\n",
       "      <td>$123.449</td>\n",
       "    </tr>\n",
       "    <tr>\n",
       "      <th>2020-12-18</th>\n",
       "      <td>$126.655</td>\n",
       "      <td>192541500</td>\n",
       "      <td>$128.96</td>\n",
       "      <td>$129.1</td>\n",
       "      <td>$126.12</td>\n",
       "    </tr>\n",
       "    <tr>\n",
       "      <th>2020-12-17</th>\n",
       "      <td>$128.7</td>\n",
       "      <td>94359810</td>\n",
       "      <td>$128.9</td>\n",
       "      <td>$129.58</td>\n",
       "      <td>$128.045</td>\n",
       "    </tr>\n",
       "    <tr>\n",
       "      <th>2020-12-16</th>\n",
       "      <td>$127.81</td>\n",
       "      <td>98208590</td>\n",
       "      <td>$127.41</td>\n",
       "      <td>$128.37</td>\n",
       "      <td>$126.56</td>\n",
       "    </tr>\n",
       "  </tbody>\n",
       "</table>\n",
       "</div>"
      ],
      "text/plain": [
       "            Close/Last     Volume      Open       High        Low\n",
       "Date                                                             \n",
       "2020-12-22     $131.88  169351800   $131.61   $134.405    $129.65\n",
       "2020-12-21     $128.23  121251600   $125.02    $128.31   $123.449\n",
       "2020-12-18    $126.655  192541500   $128.96     $129.1    $126.12\n",
       "2020-12-17      $128.7   94359810    $128.9    $129.58   $128.045\n",
       "2020-12-16     $127.81   98208590   $127.41    $128.37    $126.56"
      ]
     },
     "execution_count": 6,
     "metadata": {},
     "output_type": "execute_result"
    }
   ],
   "source": [
    "df = pd.read_csv('AAPL.csv', parse_dates=[0],index_col=0)\n",
    "#df_test = pd.read_csv('test.csv', parse_dates=['datetime'],index_col=0)\n",
    "df.head()"
   ]
  },
  {
   "cell_type": "code",
   "execution_count": 7,
   "metadata": {},
   "outputs": [
    {
     "data": {
      "text/plain": [
       "[' Close/Last', ' Volume', ' Open', ' High', ' Low']"
      ]
     },
     "execution_count": 7,
     "metadata": {},
     "output_type": "execute_result"
    }
   ],
   "source": [
    "listcol=df.columns.values.tolist()\n",
    "listcol"
   ]
  },
  {
   "cell_type": "code",
   "execution_count": 8,
   "metadata": {},
   "outputs": [
    {
     "name": "stdout",
     "output_type": "stream",
     "text": [
      " Close/Last Close/Last object\n",
      " Volume Volume int64\n",
      " Open Open object\n",
      " High High object\n",
      " Low Low object\n"
     ]
    },
    {
     "data": {
      "text/html": [
       "<div>\n",
       "<style scoped>\n",
       "    .dataframe tbody tr th:only-of-type {\n",
       "        vertical-align: middle;\n",
       "    }\n",
       "\n",
       "    .dataframe tbody tr th {\n",
       "        vertical-align: top;\n",
       "    }\n",
       "\n",
       "    .dataframe thead th {\n",
       "        text-align: right;\n",
       "    }\n",
       "</style>\n",
       "<table border=\"1\" class=\"dataframe\">\n",
       "  <thead>\n",
       "    <tr style=\"text-align: right;\">\n",
       "      <th></th>\n",
       "      <th>Close/Last</th>\n",
       "      <th>Volume</th>\n",
       "      <th>Open</th>\n",
       "      <th>High</th>\n",
       "      <th>Low</th>\n",
       "    </tr>\n",
       "    <tr>\n",
       "      <th>Date</th>\n",
       "      <th></th>\n",
       "      <th></th>\n",
       "      <th></th>\n",
       "      <th></th>\n",
       "      <th></th>\n",
       "    </tr>\n",
       "  </thead>\n",
       "  <tbody>\n",
       "    <tr>\n",
       "      <th>2020-12-22</th>\n",
       "      <td>131.880</td>\n",
       "      <td>169351800</td>\n",
       "      <td>131.61</td>\n",
       "      <td>134.405</td>\n",
       "      <td>129.650</td>\n",
       "    </tr>\n",
       "    <tr>\n",
       "      <th>2020-12-21</th>\n",
       "      <td>128.230</td>\n",
       "      <td>121251600</td>\n",
       "      <td>125.02</td>\n",
       "      <td>128.310</td>\n",
       "      <td>123.449</td>\n",
       "    </tr>\n",
       "    <tr>\n",
       "      <th>2020-12-18</th>\n",
       "      <td>126.655</td>\n",
       "      <td>192541500</td>\n",
       "      <td>128.96</td>\n",
       "      <td>129.100</td>\n",
       "      <td>126.120</td>\n",
       "    </tr>\n",
       "    <tr>\n",
       "      <th>2020-12-17</th>\n",
       "      <td>128.700</td>\n",
       "      <td>94359810</td>\n",
       "      <td>128.90</td>\n",
       "      <td>129.580</td>\n",
       "      <td>128.045</td>\n",
       "    </tr>\n",
       "    <tr>\n",
       "      <th>2020-12-16</th>\n",
       "      <td>127.810</td>\n",
       "      <td>98208590</td>\n",
       "      <td>127.41</td>\n",
       "      <td>128.370</td>\n",
       "      <td>126.560</td>\n",
       "    </tr>\n",
       "  </tbody>\n",
       "</table>\n",
       "</div>"
      ],
      "text/plain": [
       "            Close/Last     Volume    Open     High      Low\n",
       "Date                                                       \n",
       "2020-12-22     131.880  169351800  131.61  134.405  129.650\n",
       "2020-12-21     128.230  121251600  125.02  128.310  123.449\n",
       "2020-12-18     126.655  192541500  128.96  129.100  126.120\n",
       "2020-12-17     128.700   94359810  128.90  129.580  128.045\n",
       "2020-12-16     127.810   98208590  127.41  128.370  126.560"
      ]
     },
     "execution_count": 8,
     "metadata": {},
     "output_type": "execute_result"
    }
   ],
   "source": [
    "# Remove $ and strip empty space from column name\n",
    "#----------------------------------------------------\n",
    "#df = df[' Open'].apply(lambda x: x.replace('$','') )\n",
    "#listcol=df.columns.values.tolist()\n",
    "\n",
    "for col in listcol:\n",
    "    newcol=col.strip()\n",
    "    print(col,newcol,df[col].dtypes)\n",
    "    if df[col].dtypes == 'object':\n",
    "        df[newcol]=df[col].apply(lambda x: float(x.replace('$','')) )\n",
    "    else:\n",
    "        df[newcol]=df[col]\n",
    " #drop original columns\n",
    "    df.drop([col], axis=1,inplace=True)\n",
    "df.head()    "
   ]
  },
  {
   "cell_type": "code",
   "execution_count": 9,
   "metadata": {},
   "outputs": [
    {
     "data": {
      "text/html": [
       "<div>\n",
       "<style scoped>\n",
       "    .dataframe tbody tr th:only-of-type {\n",
       "        vertical-align: middle;\n",
       "    }\n",
       "\n",
       "    .dataframe tbody tr th {\n",
       "        vertical-align: top;\n",
       "    }\n",
       "\n",
       "    .dataframe thead th {\n",
       "        text-align: right;\n",
       "    }\n",
       "</style>\n",
       "<table border=\"1\" class=\"dataframe\">\n",
       "  <thead>\n",
       "    <tr style=\"text-align: right;\">\n",
       "      <th></th>\n",
       "      <th>Close/Last</th>\n",
       "      <th>Volume</th>\n",
       "      <th>Open</th>\n",
       "      <th>High</th>\n",
       "      <th>Low</th>\n",
       "    </tr>\n",
       "    <tr>\n",
       "      <th>Date</th>\n",
       "      <th></th>\n",
       "      <th></th>\n",
       "      <th></th>\n",
       "      <th></th>\n",
       "      <th></th>\n",
       "    </tr>\n",
       "  </thead>\n",
       "  <tbody>\n",
       "    <tr>\n",
       "      <th>2019-12-23</th>\n",
       "      <td>71.000</td>\n",
       "      <td>9.871152e+07</td>\n",
       "      <td>70.132</td>\n",
       "      <td>71.062</td>\n",
       "      <td>70.093</td>\n",
       "    </tr>\n",
       "    <tr>\n",
       "      <th>2019-12-24</th>\n",
       "      <td>71.068</td>\n",
       "      <td>4.847884e+07</td>\n",
       "      <td>71.172</td>\n",
       "      <td>71.222</td>\n",
       "      <td>70.730</td>\n",
       "    </tr>\n",
       "    <tr>\n",
       "      <th>2019-12-25</th>\n",
       "      <td>71.808</td>\n",
       "      <td>5.266450e+07</td>\n",
       "      <td>71.033</td>\n",
       "      <td>71.694</td>\n",
       "      <td>70.877</td>\n",
       "    </tr>\n",
       "    <tr>\n",
       "      <th>2019-12-26</th>\n",
       "      <td>72.478</td>\n",
       "      <td>9.333600e+07</td>\n",
       "      <td>71.205</td>\n",
       "      <td>72.495</td>\n",
       "      <td>71.175</td>\n",
       "    </tr>\n",
       "    <tr>\n",
       "      <th>2019-12-27</th>\n",
       "      <td>72.450</td>\n",
       "      <td>1.463718e+08</td>\n",
       "      <td>72.780</td>\n",
       "      <td>73.492</td>\n",
       "      <td>72.030</td>\n",
       "    </tr>\n",
       "  </tbody>\n",
       "</table>\n",
       "</div>"
      ],
      "text/plain": [
       "            Close/Last        Volume    Open    High     Low\n",
       "Date                                                        \n",
       "2019-12-23      71.000  9.871152e+07  70.132  71.062  70.093\n",
       "2019-12-24      71.068  4.847884e+07  71.172  71.222  70.730\n",
       "2019-12-25      71.808  5.266450e+07  71.033  71.694  70.877\n",
       "2019-12-26      72.478  9.333600e+07  71.205  72.495  71.175\n",
       "2019-12-27      72.450  1.463718e+08  72.780  73.492  72.030"
      ]
     },
     "execution_count": 9,
     "metadata": {},
     "output_type": "execute_result"
    }
   ],
   "source": [
    "df_resampled = df.resample('1d').mean()\n",
    "# fill in all missing rows\n",
    "listcol=df.columns.values.tolist()\n",
    "for col in listcol:\n",
    "    df_resampled[col] = df_resampled[col].interpolate(method='quadratic')\n",
    "    df_resampled[col] =round(df_resampled[col] ,3)\n",
    "df_resampled.head()"
   ]
  },
  {
   "cell_type": "code",
   "execution_count": 10,
   "metadata": {},
   "outputs": [
    {
     "data": {
      "text/plain": [
       "(Timestamp('2019-12-23 00:00:00', freq='D'),\n",
       " Timestamp('2020-12-22 00:00:00', freq='D'))"
      ]
     },
     "execution_count": 10,
     "metadata": {},
     "output_type": "execute_result"
    }
   ],
   "source": [
    "mn=df_resampled.index.min()\n",
    "mx=df_resampled.index.max()\n",
    "mn,mx"
   ]
  },
  {
   "cell_type": "code",
   "execution_count": 11,
   "metadata": {},
   "outputs": [],
   "source": [
    "\n",
    "\n",
    "dt_predict_max = pd.Timestamp(mx, freq=freq) # 2012-12-31 23:00 alt way..pd.datetime(2012,12,31,23,0,0)\n",
    "\n",
    "dt_dataset_start_time = pd.Timestamp(mn, freq=freq)\n",
    "dt_dataset_end_time = pd.Timestamp(mx, freq=freq)\n",
    "\n",
    "# use for model training\n",
    "# Start time is the first row provided by kaggle\n",
    "# Training TS end time ensures some data is withheld for model testing\n",
    "# 12 days worth of training data is withheld for testing\n",
    "dt_train_range = (dt_dataset_start_time,\n",
    "                  dt_dataset_end_time - datetime.timedelta(days=5) )\n",
    "\n",
    "# Use entire data for testing\n",
    "# We can compare predicted values vs actual (i.e. last 12 days is withheld for testing and model hasn't seen that data)\n",
    "dt_test_range = (dt_dataset_start_time, \n",
    "                 dt_dataset_end_time) "
   ]
  },
  {
   "cell_type": "code",
   "execution_count": 12,
   "metadata": {},
   "outputs": [
    {
     "data": {
      "text/plain": [
       "((Timestamp('2019-12-23 00:00:00', freq='D'),\n",
       "  Timestamp('2020-12-17 00:00:00', freq='D')),\n",
       " (Timestamp('2019-12-23 00:00:00', freq='D'),\n",
       "  Timestamp('2020-12-22 00:00:00', freq='D')))"
      ]
     },
     "execution_count": 12,
     "metadata": {},
     "output_type": "execute_result"
    }
   ],
   "source": [
    "dt_train_range,dt_test_range"
   ]
  },
  {
   "cell_type": "code",
   "execution_count": 13,
   "metadata": {},
   "outputs": [
    {
     "data": {
      "text/plain": [
       "<matplotlib.axes._subplots.AxesSubplot at 0x7f5b1f953240>"
      ]
     },
     "execution_count": 13,
     "metadata": {},
     "output_type": "execute_result"
    },
    {
     "data": {
      "image/png": "[encoded data removed]",
      "text/plain": [
       "<Figure size 432x288 with 1 Axes>"
      ]
     },
     "metadata": {
      "needs_background": "light"
     },
     "output_type": "display_data"
    }
   ],
   "source": [
    "df['2020-12']['Open'].plot(title='Price in December')"
   ]
  },
  {
   "cell_type": "code",
   "execution_count": 14,
   "metadata": {},
   "outputs": [],
   "source": [
    "# Let's append a new row with max predicted date\n",
    "#SKIP IT FOR NOW\n",
    "#obj = {}\n",
    "#for col in df.columns:\n",
    "#    obj[col] = [np.nan]\n",
    "#f = df.append(pd.DataFrame(obj,index=[dt_predict_max]))"
   ]
  },
  {
   "cell_type": "code",
   "execution_count": 15,
   "metadata": {},
   "outputs": [
    {
     "data": {
      "text/plain": [
       "Close/Last    False\n",
       "Volume        False\n",
       "Open          False\n",
       "High          False\n",
       "Low           False\n",
       "dtype: bool"
      ]
     },
     "execution_count": 15,
     "metadata": {},
     "output_type": "execute_result"
    }
   ],
   "source": [
    "# Every feature has NaN (missing values)\n",
    "# We need to fill in these missing features\n",
    "df.isna().any()"
   ]
  },
  {
   "cell_type": "code",
   "execution_count": 16,
   "metadata": {},
   "outputs": [],
   "source": [
    "df_dynamic_feat = df_resampled[dynamic_features]"
   ]
  },
  {
   "cell_type": "code",
   "execution_count": 17,
   "metadata": {},
   "outputs": [
    {
     "data": {
      "text/html": [
       "<div>\n",
       "<style scoped>\n",
       "    .dataframe tbody tr th:only-of-type {\n",
       "        vertical-align: middle;\n",
       "    }\n",
       "\n",
       "    .dataframe tbody tr th {\n",
       "        vertical-align: top;\n",
       "    }\n",
       "\n",
       "    .dataframe thead th {\n",
       "        text-align: right;\n",
       "    }\n",
       "</style>\n",
       "<table border=\"1\" class=\"dataframe\">\n",
       "  <thead>\n",
       "    <tr style=\"text-align: right;\">\n",
       "      <th></th>\n",
       "      <th>Volume</th>\n",
       "      <th>Open</th>\n",
       "      <th>High</th>\n",
       "      <th>Low</th>\n",
       "    </tr>\n",
       "    <tr>\n",
       "      <th>Date</th>\n",
       "      <th></th>\n",
       "      <th></th>\n",
       "      <th></th>\n",
       "      <th></th>\n",
       "    </tr>\n",
       "  </thead>\n",
       "  <tbody>\n",
       "    <tr>\n",
       "      <th>2019-12-23</th>\n",
       "      <td>9.871152e+07</td>\n",
       "      <td>70.132</td>\n",
       "      <td>71.062</td>\n",
       "      <td>70.093</td>\n",
       "    </tr>\n",
       "    <tr>\n",
       "      <th>2019-12-24</th>\n",
       "      <td>4.847884e+07</td>\n",
       "      <td>71.172</td>\n",
       "      <td>71.222</td>\n",
       "      <td>70.730</td>\n",
       "    </tr>\n",
       "    <tr>\n",
       "      <th>2019-12-25</th>\n",
       "      <td>5.266450e+07</td>\n",
       "      <td>71.033</td>\n",
       "      <td>71.694</td>\n",
       "      <td>70.877</td>\n",
       "    </tr>\n",
       "    <tr>\n",
       "      <th>2019-12-26</th>\n",
       "      <td>9.333600e+07</td>\n",
       "      <td>71.205</td>\n",
       "      <td>72.495</td>\n",
       "      <td>71.175</td>\n",
       "    </tr>\n",
       "    <tr>\n",
       "      <th>2019-12-27</th>\n",
       "      <td>1.463718e+08</td>\n",
       "      <td>72.780</td>\n",
       "      <td>73.492</td>\n",
       "      <td>72.030</td>\n",
       "    </tr>\n",
       "  </tbody>\n",
       "</table>\n",
       "</div>"
      ],
      "text/plain": [
       "                  Volume    Open    High     Low\n",
       "Date                                            \n",
       "2019-12-23  9.871152e+07  70.132  71.062  70.093\n",
       "2019-12-24  4.847884e+07  71.172  71.222  70.730\n",
       "2019-12-25  5.266450e+07  71.033  71.694  70.877\n",
       "2019-12-26  9.333600e+07  71.205  72.495  71.175\n",
       "2019-12-27  1.463718e+08  72.780  73.492  72.030"
      ]
     },
     "execution_count": 17,
     "metadata": {},
     "output_type": "execute_result"
    }
   ],
   "source": [
    "df_dynamic_feat.head()"
   ]
  },
  {
   "cell_type": "code",
   "execution_count": 18,
   "metadata": {},
   "outputs": [
    {
     "data": {
      "text/html": [
       "<div>\n",
       "<style scoped>\n",
       "    .dataframe tbody tr th:only-of-type {\n",
       "        vertical-align: middle;\n",
       "    }\n",
       "\n",
       "    .dataframe tbody tr th {\n",
       "        vertical-align: top;\n",
       "    }\n",
       "\n",
       "    .dataframe thead th {\n",
       "        text-align: right;\n",
       "    }\n",
       "</style>\n",
       "<table border=\"1\" class=\"dataframe\">\n",
       "  <thead>\n",
       "    <tr style=\"text-align: right;\">\n",
       "      <th></th>\n",
       "      <th>Volume</th>\n",
       "      <th>Open</th>\n",
       "      <th>High</th>\n",
       "      <th>Low</th>\n",
       "    </tr>\n",
       "    <tr>\n",
       "      <th>Date</th>\n",
       "      <th></th>\n",
       "      <th></th>\n",
       "      <th></th>\n",
       "      <th></th>\n",
       "    </tr>\n",
       "  </thead>\n",
       "  <tbody>\n",
       "    <tr>\n",
       "      <th>2020-12-18</th>\n",
       "      <td>1.925415e+08</td>\n",
       "      <td>128.960</td>\n",
       "      <td>129.100</td>\n",
       "      <td>126.120</td>\n",
       "    </tr>\n",
       "    <tr>\n",
       "      <th>2020-12-19</th>\n",
       "      <td>2.116398e+08</td>\n",
       "      <td>126.985</td>\n",
       "      <td>127.724</td>\n",
       "      <td>123.610</td>\n",
       "    </tr>\n",
       "    <tr>\n",
       "      <th>2020-12-20</th>\n",
       "      <td>1.428517e+08</td>\n",
       "      <td>123.792</td>\n",
       "      <td>126.280</td>\n",
       "      <td>121.619</td>\n",
       "    </tr>\n",
       "    <tr>\n",
       "      <th>2020-12-21</th>\n",
       "      <td>1.212516e+08</td>\n",
       "      <td>125.020</td>\n",
       "      <td>128.310</td>\n",
       "      <td>123.449</td>\n",
       "    </tr>\n",
       "    <tr>\n",
       "      <th>2020-12-22</th>\n",
       "      <td>1.693518e+08</td>\n",
       "      <td>131.610</td>\n",
       "      <td>134.405</td>\n",
       "      <td>129.650</td>\n",
       "    </tr>\n",
       "  </tbody>\n",
       "</table>\n",
       "</div>"
      ],
      "text/plain": [
       "                  Volume     Open     High      Low\n",
       "Date                                               \n",
       "2020-12-18  1.925415e+08  128.960  129.100  126.120\n",
       "2020-12-19  2.116398e+08  126.985  127.724  123.610\n",
       "2020-12-20  1.428517e+08  123.792  126.280  121.619\n",
       "2020-12-21  1.212516e+08  125.020  128.310  123.449\n",
       "2020-12-22  1.693518e+08  131.610  134.405  129.650"
      ]
     },
     "execution_count": 18,
     "metadata": {},
     "output_type": "execute_result"
    }
   ],
   "source": [
    "df_dynamic_feat.tail()"
   ]
  },
  {
   "cell_type": "code",
   "execution_count": 19,
   "metadata": {},
   "outputs": [
    {
     "data": {
      "text/html": [
       "<div>\n",
       "<style scoped>\n",
       "    .dataframe tbody tr th:only-of-type {\n",
       "        vertical-align: middle;\n",
       "    }\n",
       "\n",
       "    .dataframe tbody tr th {\n",
       "        vertical-align: top;\n",
       "    }\n",
       "\n",
       "    .dataframe thead th {\n",
       "        text-align: right;\n",
       "    }\n",
       "</style>\n",
       "<table border=\"1\" class=\"dataframe\">\n",
       "  <thead>\n",
       "    <tr style=\"text-align: right;\">\n",
       "      <th></th>\n",
       "      <th>Volume</th>\n",
       "      <th>Open</th>\n",
       "      <th>High</th>\n",
       "      <th>Low</th>\n",
       "    </tr>\n",
       "    <tr>\n",
       "      <th>Date</th>\n",
       "      <th></th>\n",
       "      <th></th>\n",
       "      <th></th>\n",
       "      <th></th>\n",
       "    </tr>\n",
       "  </thead>\n",
       "  <tbody>\n",
       "    <tr>\n",
       "      <th>2019-12-23</th>\n",
       "      <td>9.871152e+07</td>\n",
       "      <td>70.132</td>\n",
       "      <td>71.062</td>\n",
       "      <td>70.093</td>\n",
       "    </tr>\n",
       "    <tr>\n",
       "      <th>2019-12-24</th>\n",
       "      <td>4.847884e+07</td>\n",
       "      <td>71.172</td>\n",
       "      <td>71.222</td>\n",
       "      <td>70.730</td>\n",
       "    </tr>\n",
       "    <tr>\n",
       "      <th>2019-12-25</th>\n",
       "      <td>5.266450e+07</td>\n",
       "      <td>71.033</td>\n",
       "      <td>71.694</td>\n",
       "      <td>70.877</td>\n",
       "    </tr>\n",
       "    <tr>\n",
       "      <th>2019-12-26</th>\n",
       "      <td>9.333600e+07</td>\n",
       "      <td>71.205</td>\n",
       "      <td>72.495</td>\n",
       "      <td>71.175</td>\n",
       "    </tr>\n",
       "    <tr>\n",
       "      <th>2019-12-27</th>\n",
       "      <td>1.463718e+08</td>\n",
       "      <td>72.780</td>\n",
       "      <td>73.492</td>\n",
       "      <td>72.030</td>\n",
       "    </tr>\n",
       "    <tr>\n",
       "      <th>...</th>\n",
       "      <td>...</td>\n",
       "      <td>...</td>\n",
       "      <td>...</td>\n",
       "      <td>...</td>\n",
       "    </tr>\n",
       "    <tr>\n",
       "      <th>2020-12-18</th>\n",
       "      <td>1.925415e+08</td>\n",
       "      <td>128.960</td>\n",
       "      <td>129.100</td>\n",
       "      <td>126.120</td>\n",
       "    </tr>\n",
       "    <tr>\n",
       "      <th>2020-12-19</th>\n",
       "      <td>2.116398e+08</td>\n",
       "      <td>126.985</td>\n",
       "      <td>127.724</td>\n",
       "      <td>123.610</td>\n",
       "    </tr>\n",
       "    <tr>\n",
       "      <th>2020-12-20</th>\n",
       "      <td>1.428517e+08</td>\n",
       "      <td>123.792</td>\n",
       "      <td>126.280</td>\n",
       "      <td>121.619</td>\n",
       "    </tr>\n",
       "    <tr>\n",
       "      <th>2020-12-21</th>\n",
       "      <td>1.212516e+08</td>\n",
       "      <td>125.020</td>\n",
       "      <td>128.310</td>\n",
       "      <td>123.449</td>\n",
       "    </tr>\n",
       "    <tr>\n",
       "      <th>2020-12-22</th>\n",
       "      <td>1.693518e+08</td>\n",
       "      <td>131.610</td>\n",
       "      <td>134.405</td>\n",
       "      <td>129.650</td>\n",
       "    </tr>\n",
       "  </tbody>\n",
       "</table>\n",
       "<p>366 rows × 4 columns</p>\n",
       "</div>"
      ],
      "text/plain": [
       "                  Volume     Open     High      Low\n",
       "Date                                               \n",
       "2019-12-23  9.871152e+07   70.132   71.062   70.093\n",
       "2019-12-24  4.847884e+07   71.172   71.222   70.730\n",
       "2019-12-25  5.266450e+07   71.033   71.694   70.877\n",
       "2019-12-26  9.333600e+07   71.205   72.495   71.175\n",
       "2019-12-27  1.463718e+08   72.780   73.492   72.030\n",
       "...                  ...      ...      ...      ...\n",
       "2020-12-18  1.925415e+08  128.960  129.100  126.120\n",
       "2020-12-19  2.116398e+08  126.985  127.724  123.610\n",
       "2020-12-20  1.428517e+08  123.792  126.280  121.619\n",
       "2020-12-21  1.212516e+08  125.020  128.310  123.449\n",
       "2020-12-22  1.693518e+08  131.610  134.405  129.650\n",
       "\n",
       "[366 rows x 4 columns]"
      ]
     },
     "execution_count": 19,
     "metadata": {},
     "output_type": "execute_result"
    }
   ],
   "source": [
    "df_dynamic_feat "
   ]
  },
  {
   "cell_type": "code",
   "execution_count": 20,
   "metadata": {},
   "outputs": [],
   "source": [
    "time_series_test = []\n",
    "time_series_training = []\n",
    "\n",
    "for t in target_values:\n",
    "    time_series_test.append(df_resampled[dt_test_range[0]:dt_test_range[1]][t])\n",
    "    time_series_training.append(df_resampled[dt_train_range[0]:dt_train_range[1]][t])"
   ]
  },
  {
   "cell_type": "code",
   "execution_count": 21,
   "metadata": {},
   "outputs": [],
   "source": [
    "# Dynamic features are the same for count, registered, casual\n",
    "dynamic_features_test = df_dynamic_feat [dt_test_range[0]:dt_test_range[1]]\n",
    "dynamic_features_training = df_dynamic_feat[dt_train_range[0]:dt_train_range[1]]"
   ]
  },
  {
   "cell_type": "code",
   "execution_count": 22,
   "metadata": {},
   "outputs": [
    {
     "data": {
      "text/html": [
       "<div>\n",
       "<style scoped>\n",
       "    .dataframe tbody tr th:only-of-type {\n",
       "        vertical-align: middle;\n",
       "    }\n",
       "\n",
       "    .dataframe tbody tr th {\n",
       "        vertical-align: top;\n",
       "    }\n",
       "\n",
       "    .dataframe thead th {\n",
       "        text-align: right;\n",
       "    }\n",
       "</style>\n",
       "<table border=\"1\" class=\"dataframe\">\n",
       "  <thead>\n",
       "    <tr style=\"text-align: right;\">\n",
       "      <th></th>\n",
       "      <th>Volume</th>\n",
       "      <th>Open</th>\n",
       "      <th>High</th>\n",
       "      <th>Low</th>\n",
       "    </tr>\n",
       "    <tr>\n",
       "      <th>Date</th>\n",
       "      <th></th>\n",
       "      <th></th>\n",
       "      <th></th>\n",
       "      <th></th>\n",
       "    </tr>\n",
       "  </thead>\n",
       "  <tbody>\n",
       "    <tr>\n",
       "      <th>2019-12-23</th>\n",
       "      <td>9.871152e+07</td>\n",
       "      <td>70.132</td>\n",
       "      <td>71.062</td>\n",
       "      <td>70.093</td>\n",
       "    </tr>\n",
       "    <tr>\n",
       "      <th>2019-12-24</th>\n",
       "      <td>4.847884e+07</td>\n",
       "      <td>71.172</td>\n",
       "      <td>71.222</td>\n",
       "      <td>70.730</td>\n",
       "    </tr>\n",
       "    <tr>\n",
       "      <th>2019-12-25</th>\n",
       "      <td>5.266450e+07</td>\n",
       "      <td>71.033</td>\n",
       "      <td>71.694</td>\n",
       "      <td>70.877</td>\n",
       "    </tr>\n",
       "    <tr>\n",
       "      <th>2019-12-26</th>\n",
       "      <td>9.333600e+07</td>\n",
       "      <td>71.205</td>\n",
       "      <td>72.495</td>\n",
       "      <td>71.175</td>\n",
       "    </tr>\n",
       "    <tr>\n",
       "      <th>2019-12-27</th>\n",
       "      <td>1.463718e+08</td>\n",
       "      <td>72.780</td>\n",
       "      <td>73.492</td>\n",
       "      <td>72.030</td>\n",
       "    </tr>\n",
       "    <tr>\n",
       "      <th>...</th>\n",
       "      <td>...</td>\n",
       "      <td>...</td>\n",
       "      <td>...</td>\n",
       "      <td>...</td>\n",
       "    </tr>\n",
       "    <tr>\n",
       "      <th>2020-12-18</th>\n",
       "      <td>1.925415e+08</td>\n",
       "      <td>128.960</td>\n",
       "      <td>129.100</td>\n",
       "      <td>126.120</td>\n",
       "    </tr>\n",
       "    <tr>\n",
       "      <th>2020-12-19</th>\n",
       "      <td>2.116398e+08</td>\n",
       "      <td>126.985</td>\n",
       "      <td>127.724</td>\n",
       "      <td>123.610</td>\n",
       "    </tr>\n",
       "    <tr>\n",
       "      <th>2020-12-20</th>\n",
       "      <td>1.428517e+08</td>\n",
       "      <td>123.792</td>\n",
       "      <td>126.280</td>\n",
       "      <td>121.619</td>\n",
       "    </tr>\n",
       "    <tr>\n",
       "      <th>2020-12-21</th>\n",
       "      <td>1.212516e+08</td>\n",
       "      <td>125.020</td>\n",
       "      <td>128.310</td>\n",
       "      <td>123.449</td>\n",
       "    </tr>\n",
       "    <tr>\n",
       "      <th>2020-12-22</th>\n",
       "      <td>1.693518e+08</td>\n",
       "      <td>131.610</td>\n",
       "      <td>134.405</td>\n",
       "      <td>129.650</td>\n",
       "    </tr>\n",
       "  </tbody>\n",
       "</table>\n",
       "<p>366 rows × 4 columns</p>\n",
       "</div>"
      ],
      "text/plain": [
       "                  Volume     Open     High      Low\n",
       "Date                                               \n",
       "2019-12-23  9.871152e+07   70.132   71.062   70.093\n",
       "2019-12-24  4.847884e+07   71.172   71.222   70.730\n",
       "2019-12-25  5.266450e+07   71.033   71.694   70.877\n",
       "2019-12-26  9.333600e+07   71.205   72.495   71.175\n",
       "2019-12-27  1.463718e+08   72.780   73.492   72.030\n",
       "...                  ...      ...      ...      ...\n",
       "2020-12-18  1.925415e+08  128.960  129.100  126.120\n",
       "2020-12-19  2.116398e+08  126.985  127.724  123.610\n",
       "2020-12-20  1.428517e+08  123.792  126.280  121.619\n",
       "2020-12-21  1.212516e+08  125.020  128.310  123.449\n",
       "2020-12-22  1.693518e+08  131.610  134.405  129.650\n",
       "\n",
       "[366 rows x 4 columns]"
      ]
     },
     "execution_count": 22,
     "metadata": {},
     "output_type": "execute_result"
    }
   ],
   "source": [
    "dynamic_features_test"
   ]
  },
  {
   "cell_type": "code",
   "execution_count": 23,
   "metadata": {},
   "outputs": [
    {
     "data": {
      "image/png": "[encoded data removed]",
      "text/plain": [
       "<Figure size 432x288 with 1 Axes>"
      ]
     },
     "metadata": {
      "needs_background": "light"
     },
     "output_type": "display_data"
    }
   ],
   "source": [
    "time_series_test[0].plot(label='test')\n",
    "time_series_training[0].plot(label='train')\n",
    "plt.legend()\n",
    "plt.show()"
   ]
  },
  {
   "cell_type": "code",
   "execution_count": 24,
   "metadata": {},
   "outputs": [],
   "source": [
    "def encode_target(ts):\n",
    "    return [x if np.isfinite(x) else \"NaN\" for x in ts]  \n",
    "\n",
    "def encode_dynamic_feat(dynamic_feat):  \n",
    "    l = []\n",
    "    for col in dynamic_feat:\n",
    "       # assert (not dynamic_feat[col].isna().any()), col  + ' has NaN'             \n",
    "        l.append(dynamic_feat[col].tolist())\n",
    "    return l\n",
    "\n",
    "def series_to_obj(ts, cat=None, dynamic_feat=None):\n",
    "    obj = {\"start\": str(ts.index[0]), \"target\": encode_target(ts)}\n",
    "    if cat is not None:\n",
    "        obj[\"cat\"] = cat\n",
    "    if dynamic_feat is not None:\n",
    "        obj[\"dynamic_feat\"] = encode_dynamic_feat(dynamic_feat)\n",
    "    return obj\n",
    "\n",
    "def series_to_jsonline(ts, cat=None, dynamic_feat=None):\n",
    "    return json.dumps(series_to_obj(ts, cat, dynamic_feat))   "
   ]
  },
  {
   "cell_type": "code",
   "execution_count": 25,
   "metadata": {},
   "outputs": [
    {
     "data": {
      "text/plain": [
       "'{\"start\": \"2019-12-23 00:00:00\", \"target\": [71.0, 71.068, 71.808, 72.478, 72.45], \"dynamic_feat\": [[98711520.0, 48478840.0, 52664503.788, 93336000.0, 146371760.0], [70.132, 71.172, 71.033, 71.205, 72.78], [71.062, 71.222, 71.694, 72.495, 73.492], [70.093, 70.73, 70.877, 71.175, 72.03]]}'"
      ]
     },
     "execution_count": 25,
     "metadata": {},
     "output_type": "execute_result"
    }
   ],
   "source": [
    "series_to_jsonline(time_series_training[0][:5], dynamic_feat=dynamic_features_training[:5])"
   ]
  },
  {
   "cell_type": "code",
   "execution_count": 26,
   "metadata": {},
   "outputs": [],
   "source": [
    "encoding = \"utf-8\"\n",
    "with open(\"train_dynamic_feat.json\", 'wb') as fp:\n",
    "    for ts in time_series_training:\n",
    "        fp.write(series_to_jsonline(ts,dynamic_feat=dynamic_features_training).encode(encoding))\n",
    "        fp.write('\\n'.encode(encoding))"
   ]
  },
  {
   "cell_type": "code",
   "execution_count": 30,
   "metadata": {},
   "outputs": [],
   "source": [
    "with open(\"test_dynamic_feat.json\", 'wb') as fp:\n",
    "    for ts in time_series_test:\n",
    "        fp.write(series_to_jsonline(ts,dynamic_feat=dynamic_features_test).encode(encoding))\n",
    "        fp.write('\\n'.encode(encoding))"
   ]
  },
  {
   "cell_type": "code",
   "execution_count": 31,
   "metadata": {},
   "outputs": [],
   "source": [
    "df_resampled.to_csv('all_data_dynamic_feat.csv',index=True,index_label='datetime')"
   ]
  },
  {
   "cell_type": "code",
   "execution_count": 32,
   "metadata": {},
   "outputs": [
    {
     "name": "stdout",
     "output_type": "stream",
     "text": [
      "366 Close/Last\n"
     ]
    }
   ],
   "source": [
    "for ts in time_series_test:\n",
    "    print (len(ts),ts.name)"
   ]
  },
  {
   "cell_type": "code",
   "execution_count": 33,
   "metadata": {},
   "outputs": [
    {
     "name": "stdout",
     "output_type": "stream",
     "text": [
      "361 Close/Last\n"
     ]
    }
   ],
   "source": [
    "for ts in time_series_training:\n",
    "    print (len(ts),ts.name)"
   ]
  },
  {
   "cell_type": "code",
   "execution_count": null,
   "metadata": {},
   "outputs": [],
   "source": []
  },
  {
   "cell_type": "code",
   "execution_count": null,
   "metadata": {},
   "outputs": [],
   "source": []
  }
 ],
 "metadata": {
  "kernelspec": {
   "display_name": "conda_tensorflow_p36",
   "language": "python",
   "name": "conda_tensorflow_p36"
  },
  "language_info": {
   "codemirror_mode": {
    "name": "ipython",
    "version": 3
   },
   "file_extension": ".py",
   "mimetype": "text/x-python",
   "name": "python",
   "nbconvert_exporter": "python",
   "pygments_lexer": "ipython3",
   "version": "3.6.10"
  }
 },
 "nbformat": 4,
 "nbformat_minor": 1
}
